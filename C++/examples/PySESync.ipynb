{
 "cells": [
  {
   "cell_type": "markdown",
   "id": "republican-saudi",
   "metadata": {},
   "source": [
    "# PySESync: SE-Sync Python bindings 🐍"
   ]
  },
  {
   "cell_type": "markdown",
   "id": "configured-creature",
   "metadata": {},
   "source": [
    "This notebook demonstrates the use of SE-Sync's Python bindings"
   ]
  },
  {
   "cell_type": "code",
   "execution_count": 2,
   "id": "coated-machinery",
   "metadata": {},
   "outputs": [],
   "source": [
    "import sys\n",
    "import numpy as np\n",
    "from matplotlib import pyplot as plt"
   ]
  },
  {
   "cell_type": "markdown",
   "id": "toxic-determination",
   "metadata": {},
   "source": [
    "Import the SE-Sync Python library built using pybind"
   ]
  },
  {
   "cell_type": "code",
   "execution_count": 3,
   "id": "moderate-inside",
   "metadata": {},
   "outputs": [],
   "source": [
    "import PySESync"
   ]
  },
  {
   "cell_type": "markdown",
   "id": "fatal-delay",
   "metadata": {},
   "source": [
    "Load in some data from a .g2o file"
   ]
  },
  {
   "cell_type": "code",
   "execution_count": 15,
   "id": "acknowledged-albany",
   "metadata": {},
   "outputs": [
    {
     "name": "stdout",
     "output_type": "stream",
     "text": [
      "Loaded 2512 measurements between 1728 2-dimensional poses from file ../../data/intel.g2o\n"
     ]
    }
   ],
   "source": [
    "filename = \"../../data/intel.g2o\"\n",
    "\n",
    "measurements, num_poses = PySESync.read_g2o_file(filename)\n",
    "\n",
    "d = measurements[0].R.shape[0]\n",
    "\n",
    "print(\"Loaded %d measurements between %d %d-dimensional poses from file %s\" % (len(measurements), num_poses, d, filename))"
   ]
  },
  {
   "cell_type": "markdown",
   "id": "special-windsor",
   "metadata": {},
   "source": [
    "**Run SE-Sync!**"
   ]
  },
  {
   "cell_type": "markdown",
   "id": "lightweight-consent",
   "metadata": {},
   "source": [
    "Set SE-Sync options"
   ]
  },
  {
   "cell_type": "code",
   "execution_count": 16,
   "id": "buried-cuisine",
   "metadata": {},
   "outputs": [],
   "source": [
    "opts = PySESync.SESyncOpts()\n",
    "opts.num_threads = 4\n",
    "opts.verbose=True\n",
    "\n",
    "opts.formulation = PySESync.Formulation.Simplified    # Options are: Simplified, Explicit, SOSync (rotation averaging)\n",
    "opts.initialization = PySESync.Initialization.Chordal   # Options are Chordal or Random"
   ]
  },
  {
   "cell_type": "code",
   "execution_count": 17,
   "id": "fitting-maker",
   "metadata": {},
   "outputs": [
    {
     "name": "stdout",
     "output_type": "stream",
     "text": [
      "Constructing SE-Sync problem instance ... elapsed computation time: 0.007 seconds\n",
      "\n",
      "========= SE-Sync ==========\n",
      "\n",
      "ALGORITHM SETTINGS:\n",
      "\n",
      "SE-Sync settings:\n",
      " SE-Sync problem formulation: Simplified\n",
      " Initial level of Riemannian staircase: 5\n",
      " Maximum level of Riemannian staircase: 10\n",
      " Number of Lanczos vectors to use in minimum eigenvalue computation: 20\n",
      " Maximum number of iterations for eigenvalue computation: 10000\n",
      " Tolerance for accepting an eigenvalue as numerically nonnegative in optimality verification: 1e-05\n",
      " Using Cholesky decomposition to compute orthogonal projections\n",
      " Initialization method: chordal\n",
      " Running SE-Sync with 4 threads\n",
      "\n",
      "Riemannian trust-region settings:\n",
      " Stopping tolerance for norm of Riemannian gradient: 0.01\n",
      " Stopping tolerance for norm of preconditioned Riemannian gradient: 0.0001\n",
      " Stopping tolerance for relative function decrease: 1e-07\n",
      " Stopping tolerance for the norm of an accepted update step: 0.001\n",
      " Maximum number of trust-region iterations: 1000\n",
      " Maximum number of truncated conjugate gradient iterations per outer iteration: 10000\n",
      " STPCG fractional gradient tolerance (kappa): 0.1\n",
      " STPCG target q-superlinear convergence rate (1 + theta): 1.5\n",
      " Preconditioning the truncated conjugate gradient method using regularized Cholesky preconditioner with maximum condition number 1e+06\n",
      "\n",
      "INITIALIZATION:\n",
      " Computing chordal initialization ... elapsed computation time: 0.028 seconds\n",
      " SE-Sync initialization finished; elapsed time: 0.029 seconds\n",
      "\n",
      "Initial objective value: 53.3949\n",
      "\n",
      "\n",
      "====== RIEMANNIAN STAIRCASE (level r = 5) ======\n",
      "\n",
      "Truncated-Newton trust-region optimization: \n",
      "\n",
      "Iter:    0, time: 0.000e+00, f:  5.339e+01, |g|: 2.992e+01, |M^{-1}g|: 2.104e+01, Delta: 1.000e+00, inner iters:     4, |h|: 5.430e-01, |h|_M: 6.692e-01, df:  1.020e+00, rho:  9.987e-01. Step accepted\n",
      "Iter:    1, time: 1.100e-02, f:  5.237e+01, |g|: 4.375e+00, |M^{-1}g|: 8.958e-01, Delta: 1.673e+00, inner iters:     5, |h|: 7.829e-02, |h|_M: 1.195e-01, df:  2.647e-02, rho:  1.000e+00. Step accepted\n",
      "Iter:    2, time: 3.300e-02, f:  5.235e+01, |g|: 3.691e-01, |M^{-1}g|: 5.006e-02, Delta: 1.673e+00, inner iters:     6, |h|: 7.602e-03, |h|_M: 1.105e-02, df:  2.382e-04, rho:  1.000e+00. Step accepted\n",
      "Iter:    3, time: 5.400e-02, f:  5.235e+01, |g|: 8.703e-03, |M^{-1}g|: 7.639e-04\n",
      "\n",
      "Optimization finished!\n",
      "Found first-order critical point! (Gradient norm: 8.703e-03)\n",
      "Final objective value: 5.235e+01\n",
      "Norm of Riemannian gradient: 8.703e-03\n",
      "Norm of preconditioned Riemannian gradient: 7.639e-04\n",
      "Total elapsed computation time: 5.400e-02 seconds\n",
      "\n",
      "\n",
      "Found first-order critical point with value F(Y) = 52.3482!  Elapsed computation time: 0.054 seconds\n",
      "\n",
      "Checking second order optimality ... \n",
      "Found second-order critical point! Minimum eigenvalue: -5.27507e-11.  Elapsed computation time: 0.296 seconds (85 matrix-vector multiplications).\n",
      "\n",
      "\n",
      "===== END RIEMANNIAN STAIRCASE =====\n",
      "\n",
      "Found global optimum!\n",
      "\n",
      "Rounding solution ... elapsed computation time: 0.012 seconds\n",
      "\n",
      "SDP RESULTS:\n",
      "Value of dual SDP solution F(Y): 52.3482\n",
      "Norm of Riemannian gradient grad F(Y): 0.0087028\n",
      "Value of primal SDP solution tr(Lambda): 52.3482\n",
      "Minimum eigenvalue of certificate matrix S - Lambda: -5.27507e-11\n",
      "SDP duality gap: -1.20792e-13\n",
      "\n",
      "SE-SYNCHRONIZATION RESULTS:\n",
      "Value of rounded pose estimates F(x): 52.3482\n",
      "Suboptimality bound F(x) - tr(Lambda) of recovered pose estimate: 1.20934e-11\n",
      "\n",
      "Total elapsed computation time: 0.431 seconds\n",
      "\n",
      "===== END SE-SYNC =====\n",
      "\n"
     ]
    }
   ],
   "source": [
    "result = PySESync.SESync(measurements, opts)"
   ]
  },
  {
   "cell_type": "markdown",
   "id": "female-nature",
   "metadata": {},
   "source": [
    "**Plot some interesting data about the solution process**"
   ]
  },
  {
   "cell_type": "code",
   "execution_count": 18,
   "id": "committed-sheep",
   "metadata": {},
   "outputs": [
    {
     "data": {
      "image/png": "[encoded data removed]",
      "text/plain": [
       "<Figure size 432x288 with 1 Axes>"
      ]
     },
     "metadata": {
      "needs_background": "light"
     },
     "output_type": "display_data"
    }
   ],
   "source": [
    "# Plot sequence of Riemannian gradient norms\n",
    "grad_norms = np.concatenate(result.gradient_norms)\n",
    "plt.semilogy(grad_norms)\n",
    "plt.title(\"Norm of Riemannian gradient\")\n",
    "plt.xlabel(\"Iteration\")\n",
    "plt.show()"
   ]
  },
  {
   "cell_type": "code",
   "execution_count": 19,
   "id": "female-privilege",
   "metadata": {},
   "outputs": [
    {
     "data": {
      "image/png": "[encoded data removed]",
      "text/plain": [
       "<Figure size 432x288 with 1 Axes>"
      ]
     },
     "metadata": {
      "needs_background": "light"
     },
     "output_type": "display_data"
    }
   ],
   "source": [
    "# Plot sequence of objective values\n",
    "fvals = np.concatenate(result.function_values)\n",
    "plt.semilogy(fvals)\n",
    "plt.title(\"Objective value\")\n",
    "plt.xlabel(\"Iteration\")\n",
    "plt.show()"
   ]
  },
  {
   "cell_type": "markdown",
   "id": "diverse-cycle",
   "metadata": {},
   "source": [
    "**Plot estimated SLAM solution**"
   ]
  },
  {
   "cell_type": "code",
   "execution_count": 20,
   "id": "joined-dubai",
   "metadata": {},
   "outputs": [
    {
     "data": {
      "image/png": "[encoded data removed]",
      "text/plain": [
       "<Figure size 432x288 with 1 Axes>"
      ]
     },
     "metadata": {
      "needs_background": "light"
     },
     "output_type": "display_data"
    }
   ],
   "source": [
    "# Extract translational states from solution xhat\n",
    "xhat = result.xhat\n",
    "R0inv = np.linalg.inv(xhat[:, num_poses : num_poses + 2])\n",
    "t = np.matmul(R0inv, xhat[:, 0:num_poses])\n",
    "\n",
    "# Plot the position of each estimated pose, together with the edges between them\n",
    "for k in range(0, len(measurements)):\n",
    "    plt.plot(t[0, [measurements[k].i, measurements[k].j]], t[1, [measurements[k].i, measurements[k].j]], '.-b')\n",
    "\n",
    "plt.title(\"Estimated SLAM solution\")\n",
    "\n",
    "plt.gca().set_aspect('equal')\n",
    "plt.show()"
   ]
  },
  {
   "cell_type": "code",
   "execution_count": null,
   "id": "theoretical-england",
   "metadata": {},
   "outputs": [],
   "source": []
  }
 ],
 "metadata": {
  "kernelspec": {
   "display_name": "Python 3",
   "language": "python",
   "name": "python3"
  },
  "language_info": {
   "codemirror_mode": {
    "name": "ipython",
    "version": 3
   },
   "file_extension": ".py",
   "mimetype": "text/x-python",
   "name": "python",
   "nbconvert_exporter": "python",
   "pygments_lexer": "ipython3",
   "version": "3.8.10"
  }
 },
 "nbformat": 4,
 "nbformat_minor": 5
}
