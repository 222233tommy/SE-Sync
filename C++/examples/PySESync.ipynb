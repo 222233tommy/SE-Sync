{
 "cells": [
  {
   "cell_type": "markdown",
   "id": "republican-saudi",
   "metadata": {},
   "source": [
    "# PySESync: SE-Sync Python bindings 🐍"
   ]
  },
  {
   "cell_type": "markdown",
   "id": "configured-creature",
   "metadata": {},
   "source": [
    "This notebook demonstrates the use of SE-Sync's Python bindings"
   ]
  },
  {
   "cell_type": "code",
   "execution_count": 1,
   "id": "coated-machinery",
   "metadata": {},
   "outputs": [],
   "source": [
    "import sys\n",
    "import numpy as np\n",
    "from matplotlib import pyplot as plt"
   ]
  },
  {
   "cell_type": "markdown",
   "id": "toxic-determination",
   "metadata": {},
   "source": [
    "Import the SE-Sync Python library built using pybind"
   ]
  },
  {
   "cell_type": "code",
   "execution_count": 2,
   "id": "moderate-inside",
   "metadata": {},
   "outputs": [],
   "source": [
    "import PySESync"
   ]
  },
  {
   "cell_type": "markdown",
   "id": "fatal-delay",
   "metadata": {},
   "source": [
    "Load in some data from a .g2o file"
   ]
  },
  {
   "cell_type": "code",
   "execution_count": 3,
   "id": "acknowledged-albany",
   "metadata": {},
   "outputs": [
    {
     "name": "stdout",
     "output_type": "stream",
     "text": [
      "Loaded 29743 measurements between 10195 3-dimensional poses from file ../../data/rim.g2o\n"
     ]
    }
   ],
   "source": [
    "filename = \"../../data/rim.g2o\"\n",
    "\n",
    "measurements, num_poses = PySESync.read_g2o_file(filename)\n",
    "\n",
    "d = measurements[0].R.shape[0]\n",
    "\n",
    "print(\"Loaded %d measurements between %d %d-dimensional poses from file %s\" % (len(measurements), num_poses, d, filename))"
   ]
  },
  {
   "cell_type": "markdown",
   "id": "special-windsor",
   "metadata": {},
   "source": [
    "**Run SE-Sync!**"
   ]
  },
  {
   "cell_type": "markdown",
   "id": "lightweight-consent",
   "metadata": {},
   "source": [
    "Set SE-Sync options"
   ]
  },
  {
   "cell_type": "code",
   "execution_count": 9,
   "id": "buried-cuisine",
   "metadata": {},
   "outputs": [],
   "source": [
    "opts = PySESync.SESyncOpts()\n",
    "opts.num_threads = 4\n",
    "opts.verbose=True\n",
    "\n",
    "opts.r0 = d\n",
    "opts.formulation = PySESync.Formulation.Simplified    # Options are: Simplified, Explicit, SOSync (rotation averaging)\n",
    "opts.initialization = PySESync.Initialization.Chordal   # Options are Chordal or Random\n",
    "\n",
    "opts.min_eig_num_tol = 1e-3\n",
    "\n",
    "opts.max_time = 900"
   ]
  },
  {
   "cell_type": "code",
   "execution_count": 10,
   "id": "fitting-maker",
   "metadata": {},
   "outputs": [
    {
     "name": "stdout",
     "output_type": "stream",
     "text": [
      "Constructing SE-Sync problem instance ... elapsed computation time: 0.269 seconds\n",
      "\n",
      "========= SE-Sync ==========\n",
      "\n",
      "ALGORITHM SETTINGS:\n",
      "\n",
      "SE-Sync settings:\n",
      " SE-Sync problem formulation: Simplified\n",
      " Initial level of Riemannian staircase: 3\n",
      " Maximum level of Riemannian staircase: 10\n",
      " Tolerance for accepting an eigenvalue as numerically nonnegative in optimality verification: 0.001\n",
      " LOBPCG block size to use in escape direction computation: 4\n",
      " LOBPCG preconditioner maximum fill factor: 3\n",
      " LOBPCG preconditioner drop tolerance: 0.001\n",
      " Maximum number of LOBPCG iterations for escape direction computation: 100\n",
      " Using Cholesky decomposition to compute orthogonal projections\n",
      " Initialization method: chordal\n",
      " Running SE-Sync with 4 threads\n",
      "\n",
      "Riemannian trust-region settings:\n",
      " Stopping tolerance for norm of Riemannian gradient: 0.01\n",
      " Stopping tolerance for norm of preconditioned Riemannian gradient: 0.0001\n",
      " Stopping tolerance for relative function decrease: 1e-06\n",
      " Stopping tolerance for the norm of an accepted update step: 0.001\n",
      " Maximum number of trust-region iterations: 1000\n",
      " Maximum number of truncated conjugate gradient iterations per outer iteration: 10000\n",
      " STPCG fractional gradient tolerance (kappa): 0.1\n",
      " STPCG target q-superlinear convergence rate (1 + theta): 1.5\n",
      " Preconditioning the truncated conjugate gradient method using regularized Cholesky preconditioner with maximum condition number 1e+06\n",
      "\n",
      "INITIALIZATION:\n",
      " Computing chordal initialization ... elapsed computation time: 1.3 seconds\n",
      " SE-Sync initialization finished; elapsed time: 1.302 seconds\n",
      "\n",
      "Initial objective value: 8118.51\n",
      "\n",
      "\n",
      "====== RIEMANNIAN STAIRCASE (level r = 3) ======\n",
      "\n",
      "Truncated-Newton trust-region optimization: \n",
      "\n",
      "Iter:    0, time: 0.000e+00, f:  8.119e+03, |g|: 1.810e+03, |M^{-1}g|: 8.563e+02, Delta: 1.000e+00, inner iters:     0, |h|: 1.821e+00, |h|_M: 1.000e+00, df:  3.879e+02, rho:  9.994e-01. Step accepted\n",
      "Iter:    1, time: 1.080e-01, f:  7.731e+03, |g|: 1.689e+03, |M^{-1}g|: 4.695e+02, Delta: 2.500e+00, inner iters:     0, |h|: 3.604e+00, |h|_M: 2.500e+00, df:  5.263e+02, rho:  9.988e-01. Step accepted\n",
      "Iter:    2, time: 2.050e-01, f:  7.204e+03, |g|: 1.499e+03, |M^{-1}g|: 3.722e+02, Delta: 6.250e+00, inner iters:     1, |h|: 5.900e+00, |h|_M: 6.250e+00, df:  7.622e+02, rho:  1.001e+00. Step accepted\n",
      "Iter:    3, time: 3.330e-01, f:  6.442e+03, |g|: 1.163e+03, |M^{-1}g|: 3.020e+02, Delta: 1.562e+01, inner iters:     4, |h|: 4.518e+00, |h|_M: 1.562e+01, df:  7.757e+02, rho:  9.308e-01. Step accepted\n",
      "Iter:    4, time: 5.640e-01, f:  5.666e+03, |g|: 5.537e+02, |M^{-1}g|: 1.383e+02, Delta: 3.906e+01, inner iters:    13, |h|: 2.565e+00, |h|_M: 8.800e+00, df:  2.024e+02, rho:  9.885e-01. Step accepted\n",
      "Iter:    5, time: 1.006e+00, f:  5.464e+03, |g|: 5.993e+01, |M^{-1}g|: 5.040e+00, Delta: 3.906e+01, inner iters:    15, |h|: 4.595e-01, |h|_M: 1.309e+00, df:  3.115e+00, rho:  1.001e+00. Step accepted\n",
      "Iter:    6, time: 1.588e+00, f:  5.461e+03, |g|: 4.631e+00, |M^{-1}g|: 5.532e-01, Delta: 3.906e+01, inner iters:    17, |h|: 4.899e-02, |h|_M: 1.169e-01, df:  2.074e-02, rho:  9.999e-01. Step accepted\n",
      "Iter:    7, time: 2.289e+00, f:  5.461e+03, |g|: 3.786e-01, |M^{-1}g|: 3.954e-02, Delta: 3.906e+01, inner iters:    16, |h|: 3.003e-03, |h|_M: 8.537e-03, df:  1.250e-04, rho:  1.000e+00. Step accepted\n",
      "\n",
      "Optimization finished!\n",
      "Algorithm terminated due to insufficient relative decrease: 2.289e-08 < 1.000e-06\n",
      "Final objective value: 5.461e+03\n",
      "Norm of Riemannian gradient: 3.786e-01\n",
      "Norm of preconditioned Riemannian gradient: 3.954e-02\n",
      "Total elapsed computation time: 2.878e+00 seconds\n",
      "\n",
      "\n",
      "Found first-order critical point with value F(Y) = 5460.91!  Elapsed computation time: 2.878 seconds\n",
      "\n",
      "Checking second order optimality ... \n",
      "Saddle point detected! Curvature along escape direction: -0.134814.  Elapsed computation time: 0.829 seconds (3 LOBPCG iterations).\n",
      "\n",
      "\n",
      "====== RIEMANNIAN STAIRCASE (level r = 4) ======\n",
      "\n",
      "Truncated-Newton trust-region optimization: \n",
      "\n",
      "Iter:    0, time: 0.000e+00, f:  5.461e+03, |g|: 1.808e+00, |M^{-1}g|: 1.363e+00, Delta: 1.000e+00, inner iters:    37, |h|: 7.317e-01, |h|_M: 1.000e+00, df:  4.860e-02, rho:  9.317e-01. Step accepted\n",
      "Iter:    1, time: 1.104e+00, f:  5.461e+03, |g|: 4.534e+00, |M^{-1}g|: 4.482e-01, Delta: 2.500e+00, inner iters:    59, |h|: 1.142e+00, |h|_M: 2.500e+00, df: -1.061e-01, rho: -1.230e+00. Step REJECTED!\n",
      "Iter:    2, time: 2.787e+00, f:  5.461e+03, |g|: 4.534e+00, |M^{-1}g|: 4.482e-01, Delta: 6.250e-01, inner iters:    42, |h|: 2.957e-01, |h|_M: 6.250e-01, df:  3.813e-02, rho:  9.282e-01. Step accepted\n",
      "Iter:    3, time: 4.149e+00, f:  5.461e+03, |g|: 2.682e+00, |M^{-1}g|: 2.604e-01, Delta: 1.562e+00, inner iters:    63, |h|: 2.577e-01, |h|_M: 5.502e-01, df:  1.408e-02, rho:  9.154e-01. Step accepted\n",
      "Iter:    4, time: 6.139e+00, f:  5.461e+03, |g|: 3.249e-01, |M^{-1}g|: 2.983e-02, Delta: 1.562e+00, inner iters:    58, |h|: 3.909e-02, |h|_M: 8.542e-02, df:  4.056e-04, rho:  1.021e+00. Step accepted\n",
      "\n",
      "Optimization finished!\n",
      "Algorithm terminated due to insufficient relative decrease: 7.427e-08 < 1.000e-06\n",
      "Final objective value: 5.461e+03\n",
      "Norm of Riemannian gradient: 3.249e-01\n",
      "Norm of preconditioned Riemannian gradient: 2.983e-02\n",
      "Total elapsed computation time: 7.836e+00 seconds\n",
      "\n",
      "\n",
      "Found first-order critical point with value F(Y) = 5460.79!  Elapsed computation time: 7.836 seconds\n",
      "\n",
      "Checking second order optimality ... \n",
      "Found second-order critical point! Elapsed computation time: 0.223 seconds.\n",
      "\n",
      "\n",
      "===== END RIEMANNIAN STAIRCASE =====\n",
      "\n",
      "Found global optimum!\n",
      "\n",
      "Rounding solution ... elapsed computation time: 0.21 seconds\n",
      "\n",
      "SDP RESULTS:\n",
      "Value of dual SDP solution F(Y): 5460.79\n",
      "Norm of Riemannian gradient grad F(Y): 0.0269367\n",
      "Value of primal SDP solution tr(Lambda): 5460.79\n",
      "SDP duality gap: -1.54614e-11\n",
      "\n",
      "SE-SYNCHRONIZATION RESULTS:\n",
      "Value of rounded pose estimates F(x): 5460.94\n",
      "Suboptimality bound F(x) - tr(Lambda) of recovered pose estimate: 0.151652\n",
      "\n",
      "Total elapsed computation time: 13.52 seconds\n",
      "\n",
      "===== END SE-SYNC =====\n",
      "\n"
     ]
    }
   ],
   "source": [
    "result = PySESync.SESync(measurements, opts)"
   ]
  },
  {
   "cell_type": "markdown",
   "id": "female-nature",
   "metadata": {},
   "source": [
    "**Plot some interesting data about the solution process**"
   ]
  },
  {
   "cell_type": "code",
   "execution_count": 6,
   "id": "committed-sheep",
   "metadata": {},
   "outputs": [
    {
     "data": {
      "image/png": "[encoded data removed]",
      "text/plain": [
       "<Figure size 432x288 with 1 Axes>"
      ]
     },
     "metadata": {
      "needs_background": "light"
     },
     "output_type": "display_data"
    }
   ],
   "source": [
    "# Plot sequence of Riemannian gradient norms\n",
    "grad_norms = np.concatenate(result.gradient_norms)\n",
    "plt.semilogy(grad_norms)\n",
    "plt.title(\"Norm of Riemannian gradient\")\n",
    "plt.xlabel(\"Iteration\")\n",
    "plt.show()"
   ]
  },
  {
   "cell_type": "code",
   "execution_count": 7,
   "id": "female-privilege",
   "metadata": {},
   "outputs": [
    {
     "data": {
      "image/png": "[encoded data removed]",
      "text/plain": [
       "<Figure size 432x288 with 1 Axes>"
      ]
     },
     "metadata": {
      "needs_background": "light"
     },
     "output_type": "display_data"
    }
   ],
   "source": [
    "# Plot sequence of objective values\n",
    "fvals = np.concatenate(result.function_values)\n",
    "plt.semilogy(fvals)\n",
    "plt.title(\"Objective value\")\n",
    "plt.xlabel(\"Iteration\")\n",
    "plt.show()"
   ]
  },
  {
   "cell_type": "markdown",
   "id": "diverse-cycle",
   "metadata": {},
   "source": [
    "**Plot estimated SLAM solution**"
   ]
  },
  {
   "cell_type": "code",
   "execution_count": 8,
   "id": "joined-dubai",
   "metadata": {
    "scrolled": true
   },
   "outputs": [
    {
     "ename": "LinAlgError",
     "evalue": "Last 2 dimensions of the array must be square",
     "output_type": "error",
     "traceback": [
      "\u001b[0;31m---------------------------------------------------------------------------\u001b[0m",
      "\u001b[0;31mLinAlgError\u001b[0m                               Traceback (most recent call last)",
      "\u001b[0;32m/tmp/ipykernel_48852/29120234.py\u001b[0m in \u001b[0;36m<module>\u001b[0;34m\u001b[0m\n\u001b[1;32m      1\u001b[0m \u001b[0;31m# Extract translational states from solution xhat\u001b[0m\u001b[0;34m\u001b[0m\u001b[0;34m\u001b[0m\u001b[0m\n\u001b[1;32m      2\u001b[0m \u001b[0mxhat\u001b[0m \u001b[0;34m=\u001b[0m \u001b[0mresult\u001b[0m\u001b[0;34m.\u001b[0m\u001b[0mxhat\u001b[0m\u001b[0;34m\u001b[0m\u001b[0;34m\u001b[0m\u001b[0m\n\u001b[0;32m----> 3\u001b[0;31m \u001b[0mR0inv\u001b[0m \u001b[0;34m=\u001b[0m \u001b[0mnp\u001b[0m\u001b[0;34m.\u001b[0m\u001b[0mlinalg\u001b[0m\u001b[0;34m.\u001b[0m\u001b[0minv\u001b[0m\u001b[0;34m(\u001b[0m\u001b[0mxhat\u001b[0m\u001b[0;34m[\u001b[0m\u001b[0;34m:\u001b[0m\u001b[0;34m,\u001b[0m \u001b[0mnum_poses\u001b[0m \u001b[0;34m:\u001b[0m \u001b[0mnum_poses\u001b[0m \u001b[0;34m+\u001b[0m \u001b[0;36m2\u001b[0m\u001b[0;34m]\u001b[0m\u001b[0;34m)\u001b[0m\u001b[0;34m\u001b[0m\u001b[0;34m\u001b[0m\u001b[0m\n\u001b[0m\u001b[1;32m      4\u001b[0m \u001b[0mt\u001b[0m \u001b[0;34m=\u001b[0m \u001b[0mnp\u001b[0m\u001b[0;34m.\u001b[0m\u001b[0mmatmul\u001b[0m\u001b[0;34m(\u001b[0m\u001b[0mR0inv\u001b[0m\u001b[0;34m,\u001b[0m \u001b[0mxhat\u001b[0m\u001b[0;34m[\u001b[0m\u001b[0;34m:\u001b[0m\u001b[0;34m,\u001b[0m \u001b[0;36m0\u001b[0m\u001b[0;34m:\u001b[0m\u001b[0mnum_poses\u001b[0m\u001b[0;34m]\u001b[0m\u001b[0;34m)\u001b[0m\u001b[0;34m\u001b[0m\u001b[0;34m\u001b[0m\u001b[0m\n\u001b[1;32m      5\u001b[0m \u001b[0;34m\u001b[0m\u001b[0m\n",
      "\u001b[0;32m<__array_function__ internals>\u001b[0m in \u001b[0;36minv\u001b[0;34m(*args, **kwargs)\u001b[0m\n",
      "\u001b[0;32m/usr/lib/python3/dist-packages/numpy/linalg/linalg.py\u001b[0m in \u001b[0;36minv\u001b[0;34m(a)\u001b[0m\n\u001b[1;32m    538\u001b[0m     \u001b[0ma\u001b[0m\u001b[0;34m,\u001b[0m \u001b[0mwrap\u001b[0m \u001b[0;34m=\u001b[0m \u001b[0m_makearray\u001b[0m\u001b[0;34m(\u001b[0m\u001b[0ma\u001b[0m\u001b[0;34m)\u001b[0m\u001b[0;34m\u001b[0m\u001b[0;34m\u001b[0m\u001b[0m\n\u001b[1;32m    539\u001b[0m     \u001b[0m_assert_stacked_2d\u001b[0m\u001b[0;34m(\u001b[0m\u001b[0ma\u001b[0m\u001b[0;34m)\u001b[0m\u001b[0;34m\u001b[0m\u001b[0;34m\u001b[0m\u001b[0m\n\u001b[0;32m--> 540\u001b[0;31m     \u001b[0m_assert_stacked_square\u001b[0m\u001b[0;34m(\u001b[0m\u001b[0ma\u001b[0m\u001b[0;34m)\u001b[0m\u001b[0;34m\u001b[0m\u001b[0;34m\u001b[0m\u001b[0m\n\u001b[0m\u001b[1;32m    541\u001b[0m     \u001b[0mt\u001b[0m\u001b[0;34m,\u001b[0m \u001b[0mresult_t\u001b[0m \u001b[0;34m=\u001b[0m \u001b[0m_commonType\u001b[0m\u001b[0;34m(\u001b[0m\u001b[0ma\u001b[0m\u001b[0;34m)\u001b[0m\u001b[0;34m\u001b[0m\u001b[0;34m\u001b[0m\u001b[0m\n\u001b[1;32m    542\u001b[0m \u001b[0;34m\u001b[0m\u001b[0m\n",
      "\u001b[0;32m/usr/lib/python3/dist-packages/numpy/linalg/linalg.py\u001b[0m in \u001b[0;36m_assert_stacked_square\u001b[0;34m(*arrays)\u001b[0m\n\u001b[1;32m    201\u001b[0m         \u001b[0mm\u001b[0m\u001b[0;34m,\u001b[0m \u001b[0mn\u001b[0m \u001b[0;34m=\u001b[0m \u001b[0ma\u001b[0m\u001b[0;34m.\u001b[0m\u001b[0mshape\u001b[0m\u001b[0;34m[\u001b[0m\u001b[0;34m-\u001b[0m\u001b[0;36m2\u001b[0m\u001b[0;34m:\u001b[0m\u001b[0;34m]\u001b[0m\u001b[0;34m\u001b[0m\u001b[0;34m\u001b[0m\u001b[0m\n\u001b[1;32m    202\u001b[0m         \u001b[0;32mif\u001b[0m \u001b[0mm\u001b[0m \u001b[0;34m!=\u001b[0m \u001b[0mn\u001b[0m\u001b[0;34m:\u001b[0m\u001b[0;34m\u001b[0m\u001b[0;34m\u001b[0m\u001b[0m\n\u001b[0;32m--> 203\u001b[0;31m             \u001b[0;32mraise\u001b[0m \u001b[0mLinAlgError\u001b[0m\u001b[0;34m(\u001b[0m\u001b[0;34m'Last 2 dimensions of the array must be square'\u001b[0m\u001b[0;34m)\u001b[0m\u001b[0;34m\u001b[0m\u001b[0;34m\u001b[0m\u001b[0m\n\u001b[0m\u001b[1;32m    204\u001b[0m \u001b[0;34m\u001b[0m\u001b[0m\n\u001b[1;32m    205\u001b[0m \u001b[0;32mdef\u001b[0m \u001b[0m_assert_finite\u001b[0m\u001b[0;34m(\u001b[0m\u001b[0;34m*\u001b[0m\u001b[0marrays\u001b[0m\u001b[0;34m)\u001b[0m\u001b[0;34m:\u001b[0m\u001b[0;34m\u001b[0m\u001b[0;34m\u001b[0m\u001b[0m\n",
      "\u001b[0;31mLinAlgError\u001b[0m: Last 2 dimensions of the array must be square"
     ]
    }
   ],
   "source": [
    "# Extract translational states from solution xhat\n",
    "xhat = result.xhat\n",
    "R0inv = np.linalg.inv(xhat[:, num_poses : num_poses + 2])\n",
    "t = np.matmul(R0inv, xhat[:, 0:num_poses])\n",
    "\n",
    "# Plot the position of each estimated pose, together with the edges between them\n",
    "for k in range(0, len(measurements)):\n",
    "    plt.plot(t[0, [measurements[k].i, measurements[k].j]], t[1, [measurements[k].i, measurements[k].j]], '.-b')\n",
    "\n",
    "plt.title(\"Estimated SLAM solution\")\n",
    "\n",
    "plt.gca().set_aspect('equal')\n",
    "plt.show()"
   ]
  },
  {
   "cell_type": "code",
   "execution_count": null,
   "id": "ce55b24b",
   "metadata": {},
   "outputs": [],
   "source": []
  }
 ],
 "metadata": {
  "kernelspec": {
   "display_name": "Python 3",
   "language": "python",
   "name": "python3"
  },
  "language_info": {
   "codemirror_mode": {
    "name": "ipython",
    "version": 3
   },
   "file_extension": ".py",
   "mimetype": "text/x-python",
   "name": "python",
   "nbconvert_exporter": "python",
   "pygments_lexer": "ipython3",
   "version": "3.10.4"
  }
 },
 "nbformat": 4,
 "nbformat_minor": 5
}
