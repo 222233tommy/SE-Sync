{
 "cells": [
  {
   "cell_type": "markdown",
   "id": "republican-saudi",
   "metadata": {},
   "source": [
    "# PySESync: SE-Sync Python bindings 🐍"
   ]
  },
  {
   "cell_type": "markdown",
   "id": "configured-creature",
   "metadata": {},
   "source": [
    "This notebook demonstrates the use of SE-Sync's Python bindings"
   ]
  },
  {
   "cell_type": "code",
   "execution_count": null,
   "id": "coated-machinery",
   "metadata": {},
   "outputs": [],
   "source": [
    "import sys\n",
    "import numpy as np\n",
    "from matplotlib import pyplot as plt"
   ]
  },
  {
   "cell_type": "markdown",
   "id": "toxic-determination",
   "metadata": {},
   "source": [
    "Import the SE-Sync Python library built using pybind"
   ]
  },
  {
   "cell_type": "code",
   "execution_count": null,
   "id": "third-fundamentals",
   "metadata": {},
   "outputs": [],
   "source": [
    "sesync_lib_path = \"../build/lib\"  # Relative path to libraries built by the SE-Sync CMake project\n",
    "sys.path.insert(0, sesync_lib_path)  # Add this directory to Python interpreter path"
   ]
  },
  {
   "cell_type": "code",
   "execution_count": null,
   "id": "moderate-inside",
   "metadata": {},
   "outputs": [],
   "source": [
    "import PySESync"
   ]
  },
  {
   "cell_type": "markdown",
   "id": "fatal-delay",
   "metadata": {},
   "source": [
    "Load in some data from a .g2o file"
   ]
  },
  {
   "cell_type": "code",
   "execution_count": null,
   "id": "acknowledged-albany",
   "metadata": {},
   "outputs": [],
   "source": [
    "filename = \"../../data/intel.g2o\"\n",
    "\n",
    "measurements, num_poses = PySESync.read_g2o_file(filename)\n",
    "\n",
    "d = measurements[0].R.shape[0]\n",
    "\n",
    "print(\"Loaded %d measurements between %d %d-dimensional poses from file %s\" % (len(measurements), num_poses, d, filename))"
   ]
  },
  {
   "cell_type": "markdown",
   "id": "special-windsor",
   "metadata": {},
   "source": [
    "**Run SE-Sync!**"
   ]
  },
  {
   "cell_type": "markdown",
   "id": "lightweight-consent",
   "metadata": {},
   "source": [
    "Set SE-Sync options"
   ]
  },
  {
   "cell_type": "code",
   "execution_count": null,
   "id": "buried-cuisine",
   "metadata": {},
   "outputs": [],
   "source": [
    "opts = PySESync.SESyncOpts()\n",
    "opts.num_threads = 4\n",
    "opts.verbose=True\n",
    "\n",
    "opts.r0 = d  # Start at lowest possible level of the Riemannian Staircase\n",
    "opts.formulation = PySESync.Formulation.Explicit    # Options are: Simplified, Explicit, SOSync (rotation averaging)\n",
    "opts.initialization = PySESync.Initialization.Random   # Options are Chordal or Random"
   ]
  },
  {
   "cell_type": "code",
   "execution_count": null,
   "id": "fitting-maker",
   "metadata": {},
   "outputs": [],
   "source": [
    "result = PySESync.SESync(measurements, opts)"
   ]
  },
  {
   "cell_type": "markdown",
   "id": "female-nature",
   "metadata": {},
   "source": [
    "**Plot some interesting data about the solution process**"
   ]
  },
  {
   "cell_type": "code",
   "execution_count": null,
   "id": "committed-sheep",
   "metadata": {},
   "outputs": [],
   "source": [
    "# Plot sequence of Riemannian gradient norms\n",
    "grad_norms = np.concatenate(result.gradient_norms)\n",
    "plt.semilogy(grad_norms)\n",
    "plt.title(\"Norm of Riemannian gradient\")\n",
    "plt.xlabel(\"Iteration\")\n",
    "plt.show()"
   ]
  },
  {
   "cell_type": "code",
   "execution_count": null,
   "id": "female-privilege",
   "metadata": {},
   "outputs": [],
   "source": [
    "# Plot sequence of objective values\n",
    "fvals = np.concatenate(result.function_values)\n",
    "plt.semilogy(fvals)\n",
    "plt.title(\"Objective value\")\n",
    "plt.xlabel(\"Iteration\")\n",
    "plt.show()"
   ]
  },
  {
   "cell_type": "markdown",
   "id": "diverse-cycle",
   "metadata": {},
   "source": [
    "**Plot estimated SLAM solution**"
   ]
  },
  {
   "cell_type": "code",
   "execution_count": null,
   "id": "joined-dubai",
   "metadata": {},
   "outputs": [],
   "source": [
    "# Extract translational states from solution xhat\n",
    "xhat = result.xhat\n",
    "R0inv = np.linalg.inv(xhat[:, num_poses : num_poses + 2])\n",
    "t = np.matmul(R0inv, xhat[:, 0:num_poses])\n",
    "\n",
    "# Plot the position of each estimated pose, together with the edges between them\n",
    "for k in range(0, len(measurements)):\n",
    "    plt.plot(t[0, [measurements[k].i, measurements[k].j]], t[1, [measurements[k].i, measurements[k].j]], '.-b')\n",
    "\n",
    "plt.title(\"Estimated SLAM solution\")\n",
    "\n",
    "plt.gca().set_aspect('equal')\n",
    "plt.show()"
   ]
  }
 ],
 "metadata": {
  "kernelspec": {
   "display_name": "Python 3",
   "language": "python",
   "name": "python3"
  },
  "language_info": {
   "codemirror_mode": {
    "name": "ipython",
    "version": 3
   },
   "file_extension": ".py",
   "mimetype": "text/x-python",
   "name": "python",
   "nbconvert_exporter": "python",
   "pygments_lexer": "ipython3",
   "version": "3.8.10"
  }
 },
 "nbformat": 4,
 "nbformat_minor": 5
}
